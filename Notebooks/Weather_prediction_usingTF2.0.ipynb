{
 "cells": [
  {
   "cell_type": "markdown",
   "metadata": {},
   "source": [
    "# Weather data Prediction using TF2.0\n",
    "\n",
    "### Importing libraries."
   ]
  },
  {
   "cell_type": "code",
   "execution_count": 1,
   "metadata": {},
   "outputs": [],
   "source": [
    "import os\n",
    "import datetime"
   ]
  },
  {
   "cell_type": "code",
   "execution_count": 2,
   "metadata": {},
   "outputs": [],
   "source": [
    "import numpy as np\n",
    "import pandas as pd\n",
    "\n",
    "import matplotlib.pyplot as plt\n",
    "import matplotlib as mpl\n",
    "import seaborn as sns"
   ]
  },
  {
   "cell_type": "code",
   "execution_count": 3,
   "metadata": {},
   "outputs": [],
   "source": [
    "import tensorflow as tf"
   ]
  },
  {
   "cell_type": "code",
   "execution_count": 6,
   "metadata": {},
   "outputs": [
    {
     "data": {
      "text/plain": [
       "'2.0.0'"
      ]
     },
     "execution_count": 6,
     "metadata": {},
     "output_type": "execute_result"
    }
   ],
   "source": [
    "tf.__version__"
   ]
  },
  {
   "cell_type": "code",
   "execution_count": 4,
   "metadata": {},
   "outputs": [],
   "source": [
    "mpl.rcParams['figure.figsize'] = (8, 6)\n",
    "mpl.rcParams['axes.grid'] = False\n",
    "%matplotlib inline"
   ]
  },
  {
   "cell_type": "markdown",
   "metadata": {},
   "source": [
    "### Importing data.\n",
    "\n",
    "The data is downloaded from [source](https://storage.googleapis.com/tensorflow/tf-keras-datasets/jena_climate_2009_2016.csv.zip). The data can be downloaded and placed in the project or it can be done directly using following commands:\n"
   ]
  },
  {
   "cell_type": "raw",
   "metadata": {},
   "source": [
    "zip_path = tf.keras.utils.get_file(\n",
    "    origin='https://storage.googleapis.com/tensorflow/tf-keras-datasets/jena_climate_2009_2016.csv.zip',\n",
    "    fname='jena_climate_2009_2016.csv.zip',\n",
    "    extract=True)\n",
    "csv_path, _ = os.path.splitext(zip_path)"
   ]
  },
  {
   "cell_type": "code",
   "execution_count": 12,
   "metadata": {},
   "outputs": [],
   "source": [
    "DATA_PATH = '../Data'"
   ]
  },
  {
   "cell_type": "code",
   "execution_count": 13,
   "metadata": {},
   "outputs": [
    {
     "data": {
      "text/html": [
       "<div>\n",
       "<style scoped>\n",
       "    .dataframe tbody tr th:only-of-type {\n",
       "        vertical-align: middle;\n",
       "    }\n",
       "\n",
       "    .dataframe tbody tr th {\n",
       "        vertical-align: top;\n",
       "    }\n",
       "\n",
       "    .dataframe thead th {\n",
       "        text-align: right;\n",
       "    }\n",
       "</style>\n",
       "<table border=\"1\" class=\"dataframe\">\n",
       "  <thead>\n",
       "    <tr style=\"text-align: right;\">\n",
       "      <th></th>\n",
       "      <th>Date Time</th>\n",
       "      <th>p (mbar)</th>\n",
       "      <th>T (degC)</th>\n",
       "      <th>Tpot (K)</th>\n",
       "      <th>Tdew (degC)</th>\n",
       "      <th>rh (%)</th>\n",
       "      <th>VPmax (mbar)</th>\n",
       "      <th>VPact (mbar)</th>\n",
       "      <th>VPdef (mbar)</th>\n",
       "      <th>sh (g/kg)</th>\n",
       "      <th>H2OC (mmol/mol)</th>\n",
       "      <th>rho (g/m**3)</th>\n",
       "      <th>wv (m/s)</th>\n",
       "      <th>max. wv (m/s)</th>\n",
       "      <th>wd (deg)</th>\n",
       "    </tr>\n",
       "  </thead>\n",
       "  <tbody>\n",
       "    <tr>\n",
       "      <th>0</th>\n",
       "      <td>01.01.2009 00:10:00</td>\n",
       "      <td>996.52</td>\n",
       "      <td>-8.02</td>\n",
       "      <td>265.40</td>\n",
       "      <td>-8.90</td>\n",
       "      <td>93.3</td>\n",
       "      <td>3.33</td>\n",
       "      <td>3.11</td>\n",
       "      <td>0.22</td>\n",
       "      <td>1.94</td>\n",
       "      <td>3.12</td>\n",
       "      <td>1307.75</td>\n",
       "      <td>1.03</td>\n",
       "      <td>1.75</td>\n",
       "      <td>152.3</td>\n",
       "    </tr>\n",
       "    <tr>\n",
       "      <th>1</th>\n",
       "      <td>01.01.2009 00:20:00</td>\n",
       "      <td>996.57</td>\n",
       "      <td>-8.41</td>\n",
       "      <td>265.01</td>\n",
       "      <td>-9.28</td>\n",
       "      <td>93.4</td>\n",
       "      <td>3.23</td>\n",
       "      <td>3.02</td>\n",
       "      <td>0.21</td>\n",
       "      <td>1.89</td>\n",
       "      <td>3.03</td>\n",
       "      <td>1309.80</td>\n",
       "      <td>0.72</td>\n",
       "      <td>1.50</td>\n",
       "      <td>136.1</td>\n",
       "    </tr>\n",
       "    <tr>\n",
       "      <th>2</th>\n",
       "      <td>01.01.2009 00:30:00</td>\n",
       "      <td>996.53</td>\n",
       "      <td>-8.51</td>\n",
       "      <td>264.91</td>\n",
       "      <td>-9.31</td>\n",
       "      <td>93.9</td>\n",
       "      <td>3.21</td>\n",
       "      <td>3.01</td>\n",
       "      <td>0.20</td>\n",
       "      <td>1.88</td>\n",
       "      <td>3.02</td>\n",
       "      <td>1310.24</td>\n",
       "      <td>0.19</td>\n",
       "      <td>0.63</td>\n",
       "      <td>171.6</td>\n",
       "    </tr>\n",
       "    <tr>\n",
       "      <th>3</th>\n",
       "      <td>01.01.2009 00:40:00</td>\n",
       "      <td>996.51</td>\n",
       "      <td>-8.31</td>\n",
       "      <td>265.12</td>\n",
       "      <td>-9.07</td>\n",
       "      <td>94.2</td>\n",
       "      <td>3.26</td>\n",
       "      <td>3.07</td>\n",
       "      <td>0.19</td>\n",
       "      <td>1.92</td>\n",
       "      <td>3.08</td>\n",
       "      <td>1309.19</td>\n",
       "      <td>0.34</td>\n",
       "      <td>0.50</td>\n",
       "      <td>198.0</td>\n",
       "    </tr>\n",
       "    <tr>\n",
       "      <th>4</th>\n",
       "      <td>01.01.2009 00:50:00</td>\n",
       "      <td>996.51</td>\n",
       "      <td>-8.27</td>\n",
       "      <td>265.15</td>\n",
       "      <td>-9.04</td>\n",
       "      <td>94.1</td>\n",
       "      <td>3.27</td>\n",
       "      <td>3.08</td>\n",
       "      <td>0.19</td>\n",
       "      <td>1.92</td>\n",
       "      <td>3.09</td>\n",
       "      <td>1309.00</td>\n",
       "      <td>0.32</td>\n",
       "      <td>0.63</td>\n",
       "      <td>214.3</td>\n",
       "    </tr>\n",
       "  </tbody>\n",
       "</table>\n",
       "</div>"
      ],
      "text/plain": [
       "             Date Time  p (mbar)  T (degC)  Tpot (K)  Tdew (degC)  rh (%)  \\\n",
       "0  01.01.2009 00:10:00    996.52     -8.02    265.40        -8.90    93.3   \n",
       "1  01.01.2009 00:20:00    996.57     -8.41    265.01        -9.28    93.4   \n",
       "2  01.01.2009 00:30:00    996.53     -8.51    264.91        -9.31    93.9   \n",
       "3  01.01.2009 00:40:00    996.51     -8.31    265.12        -9.07    94.2   \n",
       "4  01.01.2009 00:50:00    996.51     -8.27    265.15        -9.04    94.1   \n",
       "\n",
       "   VPmax (mbar)  VPact (mbar)  VPdef (mbar)  sh (g/kg)  H2OC (mmol/mol)  \\\n",
       "0          3.33          3.11          0.22       1.94             3.12   \n",
       "1          3.23          3.02          0.21       1.89             3.03   \n",
       "2          3.21          3.01          0.20       1.88             3.02   \n",
       "3          3.26          3.07          0.19       1.92             3.08   \n",
       "4          3.27          3.08          0.19       1.92             3.09   \n",
       "\n",
       "   rho (g/m**3)  wv (m/s)  max. wv (m/s)  wd (deg)  \n",
       "0       1307.75      1.03           1.75     152.3  \n",
       "1       1309.80      0.72           1.50     136.1  \n",
       "2       1310.24      0.19           0.63     171.6  \n",
       "3       1309.19      0.34           0.50     198.0  \n",
       "4       1309.00      0.32           0.63     214.3  "
      ]
     },
     "execution_count": 13,
     "metadata": {},
     "output_type": "execute_result"
    }
   ],
   "source": [
    "df = pd.read_csv(os.path.join(DATA_PATH, 'jena_climate_2009_2016.csv'))\n",
    "df.head()"
   ]
  },
  {
   "cell_type": "markdown",
   "metadata": {},
   "source": [
    "### Basic EDA with preprocessing and making the data ready for input to model\n"
   ]
  },
  {
   "cell_type": "code",
   "execution_count": 14,
   "metadata": {},
   "outputs": [
    {
     "data": {
      "text/html": [
       "<div>\n",
       "<style scoped>\n",
       "    .dataframe tbody tr th:only-of-type {\n",
       "        vertical-align: middle;\n",
       "    }\n",
       "\n",
       "    .dataframe tbody tr th {\n",
       "        vertical-align: top;\n",
       "    }\n",
       "\n",
       "    .dataframe thead th {\n",
       "        text-align: right;\n",
       "    }\n",
       "</style>\n",
       "<table border=\"1\" class=\"dataframe\">\n",
       "  <thead>\n",
       "    <tr style=\"text-align: right;\">\n",
       "      <th></th>\n",
       "      <th>p (mbar)</th>\n",
       "      <th>T (degC)</th>\n",
       "      <th>Tpot (K)</th>\n",
       "      <th>Tdew (degC)</th>\n",
       "      <th>rh (%)</th>\n",
       "      <th>VPmax (mbar)</th>\n",
       "      <th>VPact (mbar)</th>\n",
       "      <th>VPdef (mbar)</th>\n",
       "      <th>sh (g/kg)</th>\n",
       "      <th>H2OC (mmol/mol)</th>\n",
       "      <th>rho (g/m**3)</th>\n",
       "      <th>wv (m/s)</th>\n",
       "      <th>max. wv (m/s)</th>\n",
       "      <th>wd (deg)</th>\n",
       "    </tr>\n",
       "  </thead>\n",
       "  <tbody>\n",
       "    <tr>\n",
       "      <th>5</th>\n",
       "      <td>996.50</td>\n",
       "      <td>-8.05</td>\n",
       "      <td>265.38</td>\n",
       "      <td>-8.78</td>\n",
       "      <td>94.4</td>\n",
       "      <td>3.33</td>\n",
       "      <td>3.14</td>\n",
       "      <td>0.19</td>\n",
       "      <td>1.96</td>\n",
       "      <td>3.15</td>\n",
       "      <td>1307.86</td>\n",
       "      <td>0.21</td>\n",
       "      <td>0.63</td>\n",
       "      <td>192.7</td>\n",
       "    </tr>\n",
       "    <tr>\n",
       "      <th>11</th>\n",
       "      <td>996.62</td>\n",
       "      <td>-8.88</td>\n",
       "      <td>264.54</td>\n",
       "      <td>-9.77</td>\n",
       "      <td>93.2</td>\n",
       "      <td>3.12</td>\n",
       "      <td>2.90</td>\n",
       "      <td>0.21</td>\n",
       "      <td>1.81</td>\n",
       "      <td>2.91</td>\n",
       "      <td>1312.25</td>\n",
       "      <td>0.25</td>\n",
       "      <td>0.63</td>\n",
       "      <td>190.3</td>\n",
       "    </tr>\n",
       "    <tr>\n",
       "      <th>17</th>\n",
       "      <td>996.84</td>\n",
       "      <td>-8.81</td>\n",
       "      <td>264.59</td>\n",
       "      <td>-9.66</td>\n",
       "      <td>93.5</td>\n",
       "      <td>3.13</td>\n",
       "      <td>2.93</td>\n",
       "      <td>0.20</td>\n",
       "      <td>1.83</td>\n",
       "      <td>2.94</td>\n",
       "      <td>1312.18</td>\n",
       "      <td>0.18</td>\n",
       "      <td>0.63</td>\n",
       "      <td>167.2</td>\n",
       "    </tr>\n",
       "    <tr>\n",
       "      <th>23</th>\n",
       "      <td>996.99</td>\n",
       "      <td>-9.05</td>\n",
       "      <td>264.34</td>\n",
       "      <td>-10.02</td>\n",
       "      <td>92.6</td>\n",
       "      <td>3.07</td>\n",
       "      <td>2.85</td>\n",
       "      <td>0.23</td>\n",
       "      <td>1.78</td>\n",
       "      <td>2.85</td>\n",
       "      <td>1313.61</td>\n",
       "      <td>0.10</td>\n",
       "      <td>0.38</td>\n",
       "      <td>240.0</td>\n",
       "    </tr>\n",
       "    <tr>\n",
       "      <th>29</th>\n",
       "      <td>997.46</td>\n",
       "      <td>-9.63</td>\n",
       "      <td>263.72</td>\n",
       "      <td>-10.65</td>\n",
       "      <td>92.2</td>\n",
       "      <td>2.94</td>\n",
       "      <td>2.71</td>\n",
       "      <td>0.23</td>\n",
       "      <td>1.69</td>\n",
       "      <td>2.71</td>\n",
       "      <td>1317.19</td>\n",
       "      <td>0.40</td>\n",
       "      <td>0.88</td>\n",
       "      <td>157.0</td>\n",
       "    </tr>\n",
       "  </tbody>\n",
       "</table>\n",
       "</div>"
      ],
      "text/plain": [
       "    p (mbar)  T (degC)  Tpot (K)  Tdew (degC)  rh (%)  VPmax (mbar)  \\\n",
       "5     996.50     -8.05    265.38        -8.78    94.4          3.33   \n",
       "11    996.62     -8.88    264.54        -9.77    93.2          3.12   \n",
       "17    996.84     -8.81    264.59        -9.66    93.5          3.13   \n",
       "23    996.99     -9.05    264.34       -10.02    92.6          3.07   \n",
       "29    997.46     -9.63    263.72       -10.65    92.2          2.94   \n",
       "\n",
       "    VPact (mbar)  VPdef (mbar)  sh (g/kg)  H2OC (mmol/mol)  rho (g/m**3)  \\\n",
       "5           3.14          0.19       1.96             3.15       1307.86   \n",
       "11          2.90          0.21       1.81             2.91       1312.25   \n",
       "17          2.93          0.20       1.83             2.94       1312.18   \n",
       "23          2.85          0.23       1.78             2.85       1313.61   \n",
       "29          2.71          0.23       1.69             2.71       1317.19   \n",
       "\n",
       "    wv (m/s)  max. wv (m/s)  wd (deg)  \n",
       "5       0.21           0.63     192.7  \n",
       "11      0.25           0.63     190.3  \n",
       "17      0.18           0.63     167.2  \n",
       "23      0.10           0.38     240.0  \n",
       "29      0.40           0.88     157.0  "
      ]
     },
     "execution_count": 14,
     "metadata": {},
     "output_type": "execute_result"
    }
   ],
   "source": [
    "#slice [start:stop:step], from index 5 taking every 6th record (sub sampling data as the values are for eery 10mins converting data to every hour values)\n",
    "df = df[5::6]\n",
    "\n",
    "#storing date time values in a separate variable for future processing\n",
    "date_time = pd.to_datetime(df.pop('Date Time'), format='%d.%m.%Y %H:%M:%S')\n",
    "\n",
    "df.head()\n"
   ]
  },
  {
   "cell_type": "code",
   "execution_count": 15,
   "metadata": {},
   "outputs": [
    {
     "data": {
      "image/png": "[encoded data removed]",
      "text/plain": [
       "<Figure size 432x288 with 3 Axes>"
      ]
     },
     "metadata": {
      "needs_background": "light"
     },
     "output_type": "display_data"
    }
   ],
   "source": [
    "plot_cols = ['T (degC)', 'p (mbar)', 'rho (g/m**3)']\n",
    "plot_features = df[plot_cols]\n",
    "plot_features.index = date_time\n",
    "_ = plot_features.plot(subplots= True)"
   ]
  },
  {
   "cell_type": "code",
   "execution_count": 16,
   "metadata": {},
   "outputs": [
    {
     "data": {
      "image/png": "[encoded data removed]",
      "text/plain": [
       "<Figure size 432x288 with 3 Axes>"
      ]
     },
     "metadata": {
      "needs_background": "light"
     },
     "output_type": "display_data"
    }
   ],
   "source": [
    "plot_features = df[plot_cols][:480]\n",
    "plot_features.index = date_time[:480]\n",
    "\n",
    "_ = plot_features.plot(subplots = True)"
   ]
  },
  {
   "cell_type": "markdown",
   "metadata": {},
   "source": [
    "Data cleaning"
   ]
  },
  {
   "cell_type": "code",
   "execution_count": 17,
   "metadata": {
    "scrolled": true
   },
   "outputs": [
    {
     "data": {
      "text/html": [
       "<div>\n",
       "<style scoped>\n",
       "    .dataframe tbody tr th:only-of-type {\n",
       "        vertical-align: middle;\n",
       "    }\n",
       "\n",
       "    .dataframe tbody tr th {\n",
       "        vertical-align: top;\n",
       "    }\n",
       "\n",
       "    .dataframe thead th {\n",
       "        text-align: right;\n",
       "    }\n",
       "</style>\n",
       "<table border=\"1\" class=\"dataframe\">\n",
       "  <thead>\n",
       "    <tr style=\"text-align: right;\">\n",
       "      <th></th>\n",
       "      <th>count</th>\n",
       "      <th>mean</th>\n",
       "      <th>std</th>\n",
       "      <th>min</th>\n",
       "      <th>25%</th>\n",
       "      <th>50%</th>\n",
       "      <th>75%</th>\n",
       "      <th>max</th>\n",
       "    </tr>\n",
       "  </thead>\n",
       "  <tbody>\n",
       "    <tr>\n",
       "      <th>p (mbar)</th>\n",
       "      <td>70091.0</td>\n",
       "      <td>989.212842</td>\n",
       "      <td>8.358886</td>\n",
       "      <td>913.60</td>\n",
       "      <td>984.20</td>\n",
       "      <td>989.57</td>\n",
       "      <td>994.720</td>\n",
       "      <td>1015.29</td>\n",
       "    </tr>\n",
       "    <tr>\n",
       "      <th>T (degC)</th>\n",
       "      <td>70091.0</td>\n",
       "      <td>9.450482</td>\n",
       "      <td>8.423384</td>\n",
       "      <td>-22.76</td>\n",
       "      <td>3.35</td>\n",
       "      <td>9.41</td>\n",
       "      <td>15.480</td>\n",
       "      <td>37.28</td>\n",
       "    </tr>\n",
       "    <tr>\n",
       "      <th>Tpot (K)</th>\n",
       "      <td>70091.0</td>\n",
       "      <td>283.493086</td>\n",
       "      <td>8.504424</td>\n",
       "      <td>250.85</td>\n",
       "      <td>277.44</td>\n",
       "      <td>283.46</td>\n",
       "      <td>289.530</td>\n",
       "      <td>311.21</td>\n",
       "    </tr>\n",
       "    <tr>\n",
       "      <th>Tdew (degC)</th>\n",
       "      <td>70091.0</td>\n",
       "      <td>4.956471</td>\n",
       "      <td>6.730081</td>\n",
       "      <td>-24.80</td>\n",
       "      <td>0.24</td>\n",
       "      <td>5.21</td>\n",
       "      <td>10.080</td>\n",
       "      <td>23.06</td>\n",
       "    </tr>\n",
       "    <tr>\n",
       "      <th>rh (%)</th>\n",
       "      <td>70091.0</td>\n",
       "      <td>76.009788</td>\n",
       "      <td>16.474920</td>\n",
       "      <td>13.88</td>\n",
       "      <td>65.21</td>\n",
       "      <td>79.30</td>\n",
       "      <td>89.400</td>\n",
       "      <td>100.00</td>\n",
       "    </tr>\n",
       "    <tr>\n",
       "      <th>VPmax (mbar)</th>\n",
       "      <td>70091.0</td>\n",
       "      <td>13.576576</td>\n",
       "      <td>7.739883</td>\n",
       "      <td>0.97</td>\n",
       "      <td>7.77</td>\n",
       "      <td>11.82</td>\n",
       "      <td>17.610</td>\n",
       "      <td>63.77</td>\n",
       "    </tr>\n",
       "    <tr>\n",
       "      <th>VPact (mbar)</th>\n",
       "      <td>70091.0</td>\n",
       "      <td>9.533968</td>\n",
       "      <td>4.183658</td>\n",
       "      <td>0.81</td>\n",
       "      <td>6.22</td>\n",
       "      <td>8.86</td>\n",
       "      <td>12.360</td>\n",
       "      <td>28.25</td>\n",
       "    </tr>\n",
       "    <tr>\n",
       "      <th>VPdef (mbar)</th>\n",
       "      <td>70091.0</td>\n",
       "      <td>4.042536</td>\n",
       "      <td>4.898549</td>\n",
       "      <td>0.00</td>\n",
       "      <td>0.87</td>\n",
       "      <td>2.19</td>\n",
       "      <td>5.300</td>\n",
       "      <td>46.01</td>\n",
       "    </tr>\n",
       "    <tr>\n",
       "      <th>sh (g/kg)</th>\n",
       "      <td>70091.0</td>\n",
       "      <td>6.022560</td>\n",
       "      <td>2.655812</td>\n",
       "      <td>0.51</td>\n",
       "      <td>3.92</td>\n",
       "      <td>5.59</td>\n",
       "      <td>7.800</td>\n",
       "      <td>18.07</td>\n",
       "    </tr>\n",
       "    <tr>\n",
       "      <th>H2OC (mmol/mol)</th>\n",
       "      <td>70091.0</td>\n",
       "      <td>9.640437</td>\n",
       "      <td>4.234862</td>\n",
       "      <td>0.81</td>\n",
       "      <td>6.29</td>\n",
       "      <td>8.96</td>\n",
       "      <td>12.490</td>\n",
       "      <td>28.74</td>\n",
       "    </tr>\n",
       "    <tr>\n",
       "      <th>rho (g/m**3)</th>\n",
       "      <td>70091.0</td>\n",
       "      <td>1216.061232</td>\n",
       "      <td>39.974263</td>\n",
       "      <td>1059.45</td>\n",
       "      <td>1187.47</td>\n",
       "      <td>1213.80</td>\n",
       "      <td>1242.765</td>\n",
       "      <td>1393.54</td>\n",
       "    </tr>\n",
       "    <tr>\n",
       "      <th>wv (m/s)</th>\n",
       "      <td>70091.0</td>\n",
       "      <td>1.702567</td>\n",
       "      <td>65.447512</td>\n",
       "      <td>-9999.00</td>\n",
       "      <td>0.99</td>\n",
       "      <td>1.76</td>\n",
       "      <td>2.860</td>\n",
       "      <td>14.01</td>\n",
       "    </tr>\n",
       "    <tr>\n",
       "      <th>max. wv (m/s)</th>\n",
       "      <td>70091.0</td>\n",
       "      <td>2.963041</td>\n",
       "      <td>75.597657</td>\n",
       "      <td>-9999.00</td>\n",
       "      <td>1.76</td>\n",
       "      <td>2.98</td>\n",
       "      <td>4.740</td>\n",
       "      <td>23.50</td>\n",
       "    </tr>\n",
       "    <tr>\n",
       "      <th>wd (deg)</th>\n",
       "      <td>70091.0</td>\n",
       "      <td>174.789095</td>\n",
       "      <td>86.619431</td>\n",
       "      <td>0.00</td>\n",
       "      <td>125.30</td>\n",
       "      <td>198.10</td>\n",
       "      <td>234.000</td>\n",
       "      <td>360.00</td>\n",
       "    </tr>\n",
       "  </tbody>\n",
       "</table>\n",
       "</div>"
      ],
      "text/plain": [
       "                   count         mean        std      min      25%      50%  \\\n",
       "p (mbar)         70091.0   989.212842   8.358886   913.60   984.20   989.57   \n",
       "T (degC)         70091.0     9.450482   8.423384   -22.76     3.35     9.41   \n",
       "Tpot (K)         70091.0   283.493086   8.504424   250.85   277.44   283.46   \n",
       "Tdew (degC)      70091.0     4.956471   6.730081   -24.80     0.24     5.21   \n",
       "rh (%)           70091.0    76.009788  16.474920    13.88    65.21    79.30   \n",
       "VPmax (mbar)     70091.0    13.576576   7.739883     0.97     7.77    11.82   \n",
       "VPact (mbar)     70091.0     9.533968   4.183658     0.81     6.22     8.86   \n",
       "VPdef (mbar)     70091.0     4.042536   4.898549     0.00     0.87     2.19   \n",
       "sh (g/kg)        70091.0     6.022560   2.655812     0.51     3.92     5.59   \n",
       "H2OC (mmol/mol)  70091.0     9.640437   4.234862     0.81     6.29     8.96   \n",
       "rho (g/m**3)     70091.0  1216.061232  39.974263  1059.45  1187.47  1213.80   \n",
       "wv (m/s)         70091.0     1.702567  65.447512 -9999.00     0.99     1.76   \n",
       "max. wv (m/s)    70091.0     2.963041  75.597657 -9999.00     1.76     2.98   \n",
       "wd (deg)         70091.0   174.789095  86.619431     0.00   125.30   198.10   \n",
       "\n",
       "                      75%      max  \n",
       "p (mbar)          994.720  1015.29  \n",
       "T (degC)           15.480    37.28  \n",
       "Tpot (K)          289.530   311.21  \n",
       "Tdew (degC)        10.080    23.06  \n",
       "rh (%)             89.400   100.00  \n",
       "VPmax (mbar)       17.610    63.77  \n",
       "VPact (mbar)       12.360    28.25  \n",
       "VPdef (mbar)        5.300    46.01  \n",
       "sh (g/kg)           7.800    18.07  \n",
       "H2OC (mmol/mol)    12.490    28.74  \n",
       "rho (g/m**3)     1242.765  1393.54  \n",
       "wv (m/s)            2.860    14.01  \n",
       "max. wv (m/s)       4.740    23.50  \n",
       "wd (deg)          234.000   360.00  "
      ]
     },
     "execution_count": 17,
     "metadata": {},
     "output_type": "execute_result"
    }
   ],
   "source": [
    "df.describe().transpose()"
   ]
  },
  {
   "cell_type": "code",
   "execution_count": 21,
   "metadata": {},
   "outputs": [
    {
     "data": {
      "text/plain": [
       "<matplotlib.collections.PathCollection at 0x2710a3f43c8>"
      ]
     },
     "execution_count": 21,
     "metadata": {},
     "output_type": "execute_result"
    },
    {
     "data": {
      "image/png": "[encoded data removed]",
      "text/plain": [
       "<Figure size 432x288 with 1 Axes>"
      ]
     },
     "metadata": {
      "needs_background": "light"
     },
     "output_type": "display_data"
    }
   ],
   "source": [
    "plt.scatter(date_time,df['wv (m/s)'])"
   ]
  },
  {
   "cell_type": "code",
   "execution_count": 23,
   "metadata": {},
   "outputs": [
    {
     "data": {
      "text/plain": [
       "0.0"
      ]
     },
     "execution_count": 23,
     "metadata": {},
     "output_type": "execute_result"
    }
   ],
   "source": [
    "#select garbage -9999.0 values of wv and max_wv and replacing them with 0\n",
    "wv = df['wv (m/s)']\n",
    "bad_wv = wv== -9999.0\n",
    "wv[bad_wv] = 0.0 #replacing low NA values of wv with 0\n",
    "\n",
    "max_wv = df['max. wv (m/s)']\n",
    "bad_max_wv = max_wv == -9999.0\n",
    "max_wv[bad_max_wv] = 0.0\n",
    "\n",
    "#sanity check\n",
    "df['wv (m/s)'].min()"
   ]
  },
  {
   "cell_type": "markdown",
   "metadata": {},
   "source": [
    "Found certain useful features after doing EDA on the data. Adding those features to the data."
   ]
  },
  {
   "cell_type": "code",
   "execution_count": 24,
   "metadata": {},
   "outputs": [],
   "source": [
    "wv= df.pop('wv (m/s)')\n",
    "max_wv = df.pop('max. wv (m/s)')\n",
    "\n",
    "# convert to radians\n",
    "wd_rad = df.pop('wd (deg)') * np.pi / 180\n",
    "\n",
    "# Calculate the x and y components of the wind velocity\n",
    "df['Wx'] = wv * np.cos(wd_rad)\n",
    "df['Wy'] = wv * np.sin(wd_rad)\n",
    "\n",
    "# Calculate the x and y components of max wind velocity\n",
    "df['max Wx'] = max_wv * np.cos(wd_rad)\n",
    "df['max Wy'] = max_wv * np.sin(wd_rad)"
   ]
  },
  {
   "cell_type": "markdown",
   "metadata": {},
   "source": [
    "Converting date time into multiple features"
   ]
  },
  {
   "cell_type": "code",
   "execution_count": 25,
   "metadata": {},
   "outputs": [],
   "source": [
    "timestamp_sec = date_time.map(datetime.datetime.timestamp)\n",
    "\n",
    "day = 24 * 60 * 60\n",
    "year = (365.2425) * day\n",
    "\n",
    "df['Day sin'] = np.sin(timestamp_sec * (2 * np.pi / day))\n",
    "df['Day cos'] = np.cos(timestamp_sec * (2 * np.pi / day))\n",
    "df['Year sin'] = np.sin(timestamp_sec * (2 * np.pi / year))\n",
    "df['Year cos'] = np.cos(timestamp_sec * (2 * np.pi / year))"
   ]
  },
  {
   "cell_type": "markdown",
   "metadata": {},
   "source": [
    "Splitting data into train:val:test in 70:20:10"
   ]
  },
  {
   "cell_type": "code",
   "execution_count": 26,
   "metadata": {},
   "outputs": [],
   "source": [
    "# Dictionary of column names and their indices\n",
    "column_indices = {name: i for i, name in enumerate(df.columns)}\n",
    "\n",
    "n = len(df)\n",
    "#  Splitting the dataset with a 70:30:10 split\n",
    "train_df = df[0:int(n*0.7)]\n",
    "val_df = df[int(n*0.7):int(n*0.9)]\n",
    "test_df = df[int(n*0.9):]\n",
    "# Number of features in our dataset\n",
    "num_features = df.shape[1]"
   ]
  },
  {
   "cell_type": "markdown",
   "metadata": {},
   "source": [
    "Normalizing data"
   ]
  },
  {
   "cell_type": "code",
   "execution_count": 27,
   "metadata": {},
   "outputs": [],
   "source": [
    "train_mean = train_df.mean()\n",
    "train_std = train_df.std()\n",
    "\n",
    "train_df = (train_df - train_mean) / train_std\n",
    "val_df = (val_df - train_mean) / train_std\n",
    "test_df = (test_df - train_mean) / train_std"
   ]
  },
  {
   "cell_type": "markdown",
   "metadata": {},
   "source": [
    "##### Creating data window"
   ]
  },
  {
   "cell_type": "code",
   "execution_count": null,
   "metadata": {},
   "outputs": [],
   "source": []
  }
 ],
 "metadata": {
  "kernelspec": {
   "display_name": "Python 3",
   "language": "python",
   "name": "python3"
  },
  "language_info": {
   "codemirror_mode": {
    "name": "ipython",
    "version": 3
   },
   "file_extension": ".py",
   "mimetype": "text/x-python",
   "name": "python",
   "nbconvert_exporter": "python",
   "pygments_lexer": "ipython3",
   "version": "3.7.1"
  }
 },
 "nbformat": 4,
 "nbformat_minor": 2
}
